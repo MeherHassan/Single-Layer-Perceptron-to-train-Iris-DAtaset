{
 "cells": [
  {
   "cell_type": "code",
   "execution_count": 63,
   "metadata": {},
   "outputs": [],
   "source": [
    "import numpy as np\n",
    "from matplotlib import pyplot as plt\n",
    "\n",
    "#Class for creating a Perceptron\n",
    "class Perceptron:\n",
    "\n",
    "    #initialize perceptron\n",
    "    def __init__(self, neurons, epochs, x_train_data, x_test_data, y_train_data, y_test_data, eta, num_training, num_testing):\n",
    "        self.neurons = neurons #number of input neurons\n",
    "        self.bias = 1 #bias\n",
    "        self.epochs = epochs #number of epochs\n",
    "        self.eta = eta #learning rate\n",
    "        self.ee = np.zeros(num_training) #error difference between predicted value and generated value\n",
    "        self.mse = np.zeros(self.epochs) #mean squared error for plotting the graph\n",
    "        self.weight = np.zeros(neurons) #initial weight\n",
    "        self.num_training = num_training #number of training samples\n",
    "        self.num_testing = num_testing #number of testing samples\n",
    "        self.error_points = 0 #to keep track of the total testing error\n",
    "        \n",
    "        self.x_train_data = x_train_data\n",
    "        self.x_test_data = x_test_data\n",
    "        \n",
    "        self.y_train_data = y_train_data\n",
    "        self.y_test_data = y_test_data\n",
    "\n",
    "    #return the output of activation function\n",
    "    def activation_func(self, x):\n",
    "        y = np.transpose(self.weight).dot(x) + self.bias\n",
    "        \n",
    "        # sigmoid function\n",
    "        y = 1/(1 + np.exp(-y))\n",
    "\n",
    "        if y == 1:\n",
    "            return 1\n",
    "        elif y < 1:\n",
    "            return 0\n",
    "        else:\n",
    "            return 2\n",
    "\n",
    "\n",
    "\n",
    "    def fit(self): #learn through the number of traing samples\n",
    "\n",
    "        for e in range(self.epochs):\n",
    "\n",
    "            for i in range(self.num_training):\n",
    "                #fetch data\n",
    "                x = self.x_train_data[i, 0:self.neurons]\n",
    "\n",
    "                #fetch desired output from dataset\n",
    "                d = self.y_train_data[i]\n",
    "\n",
    "                #activation function\n",
    "                y = self.activation_func(x)\n",
    "\n",
    "                #calculate difference\n",
    "                self.ee[i] = d - y\n",
    "\n",
    "                #new weight\n",
    "                new_weight = self.weight + x.dot(self.ee[i] * self.eta)\n",
    "\n",
    "                #at any point if the weights are similar, then skip to the next epoch\n",
    "                if new_weight[i] == self.weight[i]: \n",
    "                    break\n",
    "                \n",
    "                #otherwise set the new weight as current weight\n",
    "                self.weight = new_weight\n",
    "\n",
    "            #calculate mean squared error for each epoch\n",
    "            self.mse[e] = np.square(self.ee).mean()\n",
    "\n",
    "        training_accuracy = 100 - ((self.ee[self.num_training - 1]/self.num_training) * 100)\n",
    "        print(f'Total samples trained: {self.num_training}')\n",
    "        print(f'Training accuracy: {training_accuracy}%')\n",
    "        print(f'Total epochs: {self.epochs}')\n",
    "\n",
    "\n",
    "    #show graph of learning curve against mean squared error\n",
    "    def plot_fit(self):\n",
    "        plt.xlabel('Epochs')\n",
    "        plt.ylabel('Mean squared error (mse)')\n",
    "        plt.title('Training accuracy')\n",
    "        plt.plot(self.mse)\n",
    "        plt.show()\n",
    "\n",
    "\n",
    "    def predict(self): #predict and calulate testing accuracy\n",
    "        \n",
    "        for i in range(self.num_testing):\n",
    "            #fetch data\n",
    "            x = self.x_test_data[i, 0:self.neurons]\n",
    "\n",
    "            # activation function\n",
    "            y = self.activation_func(x)\n",
    "\n",
    "            #calculate error points\n",
    "            if y!=self.y_test_data[i]:\n",
    "                self.error_points += 1\n",
    "\n",
    "        #calculate testing accuracy\n",
    "        testing_accuracy = 100 - ((self.error_points/self.num_testing) * 100)\n",
    "\n",
    "        print(f'Total samples tested: {self.num_testing}')\n",
    "        print(f'Total errror points: {self.error_points}')\n",
    "        print(f'Testing accuracy: {testing_accuracy:.2f}%')\n",
    "        "
   ]
  },
  {
   "cell_type": "code",
   "execution_count": 64,
   "metadata": {
    "scrolled": false
   },
   "outputs": [
    {
     "name": "stdout",
     "output_type": "stream",
     "text": [
      "Total samples trained: 100\n",
      "Training accuracy: 100.0%\n",
      "Total epochs: 200\n"
     ]
    },
    {
     "data": {
      "image/png": "[encoded data removed]",
      "text/plain": [
       "<Figure size 432x288 with 1 Axes>"
      ]
     },
     "metadata": {
      "needs_background": "light"
     },
     "output_type": "display_data"
    },
    {
     "name": "stdout",
     "output_type": "stream",
     "text": [
      "Total samples tested: 50\n",
      "Total errror points: 20\n",
      "Testing accuracy: 60.00%\n"
     ]
    }
   ],
   "source": [
    "from sklearn.datasets import load_iris\n",
    "from sklearn.model_selection import train_test_split\n",
    "\n",
    "if __name__ == '__main__':\n",
    "    \n",
    "    # load the iris data\n",
    "    X,y = load_iris(return_X_y=True)\n",
    "    \n",
    "    # separate train and test data\n",
    "    X_train, X_test, y_train, y_test = train_test_split(X, y, test_size=0.33, random_state=42)\n",
    "\n",
    "    num_training = X_train.shape[0] # number of training data\n",
    "    num_testing = X_test.shape[0]  # number of testing data\n",
    "    epochs = 200 # number of epochs to iterate\n",
    "\n",
    "    #-----------------initialize Perceptron variables---------------------\n",
    "    neurons = X_train.shape[1] # number of input neurons\n",
    "    eta = 0.001 #learning rate\n",
    "\n",
    "\n",
    "    # ------------------initialize Perceptron network----------------------\n",
    "    perceptron = Perceptron(neurons, epochs, X_train, X_test, y_train, y_test, eta, num_training, num_testing)\n",
    "\n",
    "    #Train the perceptron\n",
    "    perceptron.fit()\n",
    "\n",
    "    #Plot training data\n",
    "    perceptron.plot_fit()\n",
    "\n",
    "    #Test the perceptron\n",
    "    perceptron.predict()"
   ]
  },
  {
   "cell_type": "code",
   "execution_count": null,
   "metadata": {},
   "outputs": [],
   "source": []
  }
 ],
 "metadata": {
  "kernelspec": {
   "display_name": "Python 3",
   "language": "python",
   "name": "python3"
  },
  "language_info": {
   "codemirror_mode": {
    "name": "ipython",
    "version": 3
   },
   "file_extension": ".py",
   "mimetype": "text/x-python",
   "name": "python",
   "nbconvert_exporter": "python",
   "pygments_lexer": "ipython3",
   "version": "3.7.10"
  }
 },
 "nbformat": 4,
 "nbformat_minor": 4
}
